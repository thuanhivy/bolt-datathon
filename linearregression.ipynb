{
 "cells": [
  {
   "cell_type": "markdown",
   "id": "62d42b3b-8ac1-4c88-ba20-5381a163fc75",
   "metadata": {},
   "source": [
    "## NullFraud Predictive Modeling"
   ]
  },
  {
   "cell_type": "markdown",
   "id": "e9a4be4d-a580-4841-a232-2c2e6763fe86",
   "metadata": {},
   "source": [
    "## Loaded the required library"
   ]
  },
  {
   "cell_type": "code",
   "execution_count": 1,
   "id": "4682be39-97a2-43ac-8bb4-f29e2c2e7700",
   "metadata": {},
   "outputs": [
    {
     "name": "stderr",
     "output_type": "stream",
     "text": [
      "── \u001b[1mAttaching packages\u001b[22m ────────────────────────────────────── tidymodels 1.1.1 ──\n",
      "\n",
      "\u001b[32m✔\u001b[39m \u001b[34mbroom       \u001b[39m 1.0.5     \u001b[32m✔\u001b[39m \u001b[34mrecipes     \u001b[39m 1.0.8\n",
      "\u001b[32m✔\u001b[39m \u001b[34mdials       \u001b[39m 1.2.0     \u001b[32m✔\u001b[39m \u001b[34mrsample     \u001b[39m 1.2.0\n",
      "\u001b[32m✔\u001b[39m \u001b[34mdplyr       \u001b[39m 1.1.3     \u001b[32m✔\u001b[39m \u001b[34mtibble      \u001b[39m 3.2.1\n",
      "\u001b[32m✔\u001b[39m \u001b[34mggplot2     \u001b[39m 3.5.0     \u001b[32m✔\u001b[39m \u001b[34mtidyr       \u001b[39m 1.3.0\n",
      "\u001b[32m✔\u001b[39m \u001b[34minfer       \u001b[39m 1.0.5     \u001b[32m✔\u001b[39m \u001b[34mtune        \u001b[39m 1.1.2\n",
      "\u001b[32m✔\u001b[39m \u001b[34mmodeldata   \u001b[39m 1.2.0     \u001b[32m✔\u001b[39m \u001b[34mworkflows   \u001b[39m 1.1.3\n",
      "\u001b[32m✔\u001b[39m \u001b[34mparsnip     \u001b[39m 1.1.1     \u001b[32m✔\u001b[39m \u001b[34mworkflowsets\u001b[39m 1.0.1\n",
      "\u001b[32m✔\u001b[39m \u001b[34mpurrr       \u001b[39m 1.0.2     \u001b[32m✔\u001b[39m \u001b[34myardstick   \u001b[39m 1.2.0\n",
      "\n",
      "Warning message:\n",
      "“package ‘ggplot2’ was built under R version 4.3.2”\n",
      "── \u001b[1mConflicts\u001b[22m ───────────────────────────────────────── tidymodels_conflicts() ──\n",
      "\u001b[31m✖\u001b[39m \u001b[34mpurrr\u001b[39m::\u001b[32mdiscard()\u001b[39m masks \u001b[34mscales\u001b[39m::discard()\n",
      "\u001b[31m✖\u001b[39m \u001b[34mdplyr\u001b[39m::\u001b[32mfilter()\u001b[39m  masks \u001b[34mstats\u001b[39m::filter()\n",
      "\u001b[31m✖\u001b[39m \u001b[34mdplyr\u001b[39m::\u001b[32mlag()\u001b[39m     masks \u001b[34mstats\u001b[39m::lag()\n",
      "\u001b[31m✖\u001b[39m \u001b[34mrecipes\u001b[39m::\u001b[32mstep()\u001b[39m  masks \u001b[34mstats\u001b[39m::step()\n",
      "\u001b[34m•\u001b[39m Dig deeper into tidy modeling with R at \u001b[32mhttps://www.tmwr.org\u001b[39m\n",
      "\n",
      "── \u001b[1mAttaching core tidyverse packages\u001b[22m ──────────────────────── tidyverse 2.0.0 ──\n",
      "\u001b[32m✔\u001b[39m \u001b[34mforcats  \u001b[39m 1.0.0     \u001b[32m✔\u001b[39m \u001b[34mreadr    \u001b[39m 2.1.4\n",
      "\u001b[32m✔\u001b[39m \u001b[34mlubridate\u001b[39m 1.9.2     \u001b[32m✔\u001b[39m \u001b[34mstringr  \u001b[39m 1.5.0\n",
      "── \u001b[1mConflicts\u001b[22m ────────────────────────────────────────── tidyverse_conflicts() ──\n",
      "\u001b[31m✖\u001b[39m \u001b[34mreadr\u001b[39m::\u001b[32mcol_factor()\u001b[39m masks \u001b[34mscales\u001b[39m::col_factor()\n",
      "\u001b[31m✖\u001b[39m \u001b[34mpurrr\u001b[39m::\u001b[32mdiscard()\u001b[39m    masks \u001b[34mscales\u001b[39m::discard()\n",
      "\u001b[31m✖\u001b[39m \u001b[34mdplyr\u001b[39m::\u001b[32mfilter()\u001b[39m     masks \u001b[34mstats\u001b[39m::filter()\n",
      "\u001b[31m✖\u001b[39m \u001b[34mstringr\u001b[39m::\u001b[32mfixed()\u001b[39m    masks \u001b[34mrecipes\u001b[39m::fixed()\n",
      "\u001b[31m✖\u001b[39m \u001b[34mdplyr\u001b[39m::\u001b[32mlag()\u001b[39m        masks \u001b[34mstats\u001b[39m::lag()\n",
      "\u001b[31m✖\u001b[39m \u001b[34mreadr\u001b[39m::\u001b[32mspec()\u001b[39m       masks \u001b[34myardstick\u001b[39m::spec()\n",
      "\u001b[36mℹ\u001b[39m Use the conflicted package (\u001b[3m\u001b[34m<http://conflicted.r-lib.org/>\u001b[39m\u001b[23m) to force all conflicts to become errors\n"
     ]
    }
   ],
   "source": [
    "library(tidymodels)\n",
    "library(tidyverse)\n",
    "library(readxl)\n",
    "library(dplyr)\n",
    "library(repr)\n",
    "\n",
    "# Setting a seed so our analysis is random but reproducible\n",
    "set.seed(2005)"
   ]
  },
  {
   "cell_type": "markdown",
   "id": "f64e0163-c592-419b-9442-377ebb6d57d7",
   "metadata": {},
   "source": [
    "## Cleaning and wrangling the data"
   ]
  },
  {
   "cell_type": "code",
   "execution_count": null,
   "id": "0e2a2884-eac2-4446-a137-e7ee6ac62475",
   "metadata": {},
   "outputs": [],
   "source": [
    "# Read the data\n",
    "fraud_data <- read_excel(\"BOLT Data Set.xlsx\")\n",
    "\n",
    "#Rename the column\n",
    "\n",
    "fraud_data <- fraud_data |>\n",
    "rename(\"Card_Identifier\" = \"Card Identifier\", \"Transaction_Date\" = \"Transaction Date\", \"Transaction_Time\" = \"Transaction Time\",\n",
    "       \"Risk_Assessment\" = \"Risk Assessment\", \"Payment_Method\" = \"Payment Method\", \"Transaction_Value\" = \"Transaction Value\",\n",
    "       \"Merchant_Location\" = \"Merchant Location\", \"Card_Present_Status\" = \"Card Present Status\", \n",
    "       \"Chip_Usage\" = \"Chip Usage\" , \"Cross_border_Transaction\" = \"Cross-border Transaction (Yes/No)\",\n",
    "        \"Acquiring_Institution_ID\" = \"Acquiring Institution ID\", \"Merchant_Identifier\" = \"Merchant Identifier\", \n",
    "       \"Merchant_Category_Code\" = \"Merchant Category Code (MCC)\", \"Fraud_Indicator\" = \"Fraud Indicator (Yes/No)\") "
   ]
  },
  {
   "cell_type": "code",
   "execution_count": 3,
   "id": "227de3d0-a152-4551-b4ee-c6240a41e3a1",
   "metadata": {},
   "outputs": [
    {
     "name": "stdout",
     "output_type": "stream",
     "text": [
      "Rows: 100,000\n",
      "Columns: 14\n",
      "$ Card_Identifier          \u001b[3m\u001b[90m<fct>\u001b[39m\u001b[23m card 1, card 2, card 3, card 4, card 5, card …\n",
      "$ Transaction_Date         \u001b[3m\u001b[90m<dttm>\u001b[39m\u001b[23m 2023-05-11, 2023-06-05, 2023-06-05, 2023-07-…\n",
      "$ Transaction_Time         \u001b[3m\u001b[90m<chr>\u001b[39m\u001b[23m \"16:22:14.0\", \"15:16:35.0\", \"11:57:40.0\", \"18…\n",
      "$ Risk_Assessment          \u001b[3m\u001b[90m<dbl>\u001b[39m\u001b[23m 362, 602, 482, 947, 1382, 612, 1327, 1037, 49…\n",
      "$ Payment_Method           \u001b[3m\u001b[90m<fct>\u001b[39m\u001b[23m Paypass - Contactless, Online, Unknown, Onlin…\n",
      "$ Transaction_Value        \u001b[3m\u001b[90m<dbl>\u001b[39m\u001b[23m 13.98, 24.64, 15.00, 30.56, 50.85, 75.77, 0.0…\n",
      "$ Merchant_Location        \u001b[3m\u001b[90m<fct>\u001b[39m\u001b[23m USA, USA, USA, USA, USA, USA, USA, USA, USA, …\n",
      "$ Card_Present_Status      \u001b[3m\u001b[90m<dbl>\u001b[39m\u001b[23m 0, 0, 0, 0, 0, 0, 0, 0, 0, 0, 0, 0, 0, 0, 0, …\n",
      "$ Chip_Usage               \u001b[3m\u001b[90m<dbl>\u001b[39m\u001b[23m 1, 0, 0, 0, 0, 1, 0, 0, 0, 1, 1, 0, 0, 0, 0, …\n",
      "$ Cross_border_Transaction \u001b[3m\u001b[90m<dbl>\u001b[39m\u001b[23m 0, 0, 0, 0, 0, 0, 0, 0, 0, 0, 1, 0, 1, 1, 0, …\n",
      "$ Acquiring_Institution_ID \u001b[3m\u001b[90m<fct>\u001b[39m\u001b[23m acquirer 1, acquirer 2, acquirer 3, acquirer …\n",
      "$ Merchant_Identifier      \u001b[3m\u001b[90m<fct>\u001b[39m\u001b[23m merchant 1, merchant 2, merchant 3, merchant …\n",
      "$ Merchant_Category_Code   \u001b[3m\u001b[90m<dbl>\u001b[39m\u001b[23m 5812, 4121, 7211, 5814, 5812, 5812, 5816, 581…\n",
      "$ Fraud_Indicator          \u001b[3m\u001b[90m<dbl>\u001b[39m\u001b[23m 0, 0, 0, 0, 0, 0, 0, 0, 0, 0, 0, 0, 0, 0, 0, …\n"
     ]
    }
   ],
   "source": [
    "# Converting to correct data types\n",
    "numeric_column_names <- c(\"Risk_Assessment\", \"Transaction_Value\")\n",
    "factor_column_names <- c(\"Card_Identifier\", \"Payment_Method\", \"Merchant_Location\", \"Card_Present_Status\", \"Chip_Usage\",\n",
    "                       \"Cross_border_Transaction\", \"Acquiring_Institution_ID\", \"Merchant_Identifier\", \n",
    "                        \"Fraud_Indicator\")\n",
    "fraud_data <- fraud_data |>\n",
    "    mutate(across(all_of(numeric_column_names), as.numeric)) |>\n",
    "    mutate(across(all_of(factor_column_names), as_factor)) \n",
    "\n",
    "fraud_data$Chip_Usage <- ifelse(fraud_data$Chip_Usage == \"Yes\", 1, 0)\n",
    "fraud_data$Cross_border_Transaction <- ifelse(fraud_data$Cross_border_Transaction == \"Yes\", 1, 0)\n",
    "fraud_data$Fraud_Indicator <- ifelse(fraud_data$Fraud_Indicator == \"Yes\", 1, 0)\n",
    "fraud_data$Card_Present_Status <- ifelse(fraud_data$Card_Present_Status == \"Yes\", 1, 0)\n",
    "    \n",
    "glimpse(fraud_data)"
   ]
  },
  {
   "cell_type": "code",
   "execution_count": 4,
   "id": "fddcf86c-f514-4853-b8dc-c4b9698f7edb",
   "metadata": {},
   "outputs": [],
   "source": [
    "#Split the data into training and testing set\n",
    "fraud_data_split <- fraud_data |>\n",
    "    initial_split(prop = 0.75, strata = \"Fraud_Indicator\")\n",
    "\n",
    "fraud_training <- training(fraud_data_split)\n",
    "fraud_testing <- testing(fraud_data_split)\n"
   ]
  },
  {
   "cell_type": "markdown",
   "id": "5072651b-c9cf-4f57-afcf-f0ce5c2b6eb5",
   "metadata": {},
   "source": [
    "## Attempt linear regression"
   ]
  },
  {
   "cell_type": "code",
   "execution_count": 6,
   "id": "bf499699-e118-4f35-8afa-f4b6ab8b47f7",
   "metadata": {},
   "outputs": [],
   "source": [
    "mlm_recipe <- recipe(Fraud_Indicator  ~  Chip_Usage + Risk_Assessment, data = fraud_training)"
   ]
  },
  {
   "cell_type": "code",
   "execution_count": 12,
   "id": "88794554-ffb3-45b9-86b6-3b4da94037e8",
   "metadata": {},
   "outputs": [
    {
     "data": {
      "text/html": [
       "<table class=\"dataframe\">\n",
       "<caption>A tibble: 3 × 3</caption>\n",
       "<thead>\n",
       "\t<tr><th scope=col>.metric</th><th scope=col>.estimator</th><th scope=col>.estimate</th></tr>\n",
       "\t<tr><th scope=col>&lt;chr&gt;</th><th scope=col>&lt;chr&gt;</th><th scope=col>&lt;dbl&gt;</th></tr>\n",
       "</thead>\n",
       "<tbody>\n",
       "\t<tr><td>rmse</td><td>standard</td><td>0.047563735</td></tr>\n",
       "\t<tr><td>rsq </td><td>standard</td><td>0.015058811</td></tr>\n",
       "\t<tr><td>mae </td><td>standard</td><td>0.006089916</td></tr>\n",
       "</tbody>\n",
       "</table>\n"
      ],
      "text/latex": [
       "A tibble: 3 × 3\n",
       "\\begin{tabular}{lll}\n",
       " .metric & .estimator & .estimate\\\\\n",
       " <chr> & <chr> & <dbl>\\\\\n",
       "\\hline\n",
       "\t rmse & standard & 0.047563735\\\\\n",
       "\t rsq  & standard & 0.015058811\\\\\n",
       "\t mae  & standard & 0.006089916\\\\\n",
       "\\end{tabular}\n"
      ],
      "text/markdown": [
       "\n",
       "A tibble: 3 × 3\n",
       "\n",
       "| .metric &lt;chr&gt; | .estimator &lt;chr&gt; | .estimate &lt;dbl&gt; |\n",
       "|---|---|---|\n",
       "| rmse | standard | 0.047563735 |\n",
       "| rsq  | standard | 0.015058811 |\n",
       "| mae  | standard | 0.006089916 |\n",
       "\n"
      ],
      "text/plain": [
       "  .metric .estimator .estimate  \n",
       "1 rmse    standard   0.047563735\n",
       "2 rsq     standard   0.015058811\n",
       "3 mae     standard   0.006089916"
      ]
     },
     "metadata": {},
     "output_type": "display_data"
    }
   ],
   "source": [
    "lm_spec <- linear_reg() |>\n",
    "  set_engine(\"lm\") |>\n",
    "  set_mode(\"regression\")\n",
    "\n",
    "mlm_fit <- workflow() |>\n",
    "  add_recipe(mlm_recipe) |>\n",
    "  add_model(lm_spec) |>\n",
    "  fit(data = fraud_training)\n",
    "\n",
    "lm_mult_test_results <- mlm_fit |>\n",
    "  predict(fraud_testing) |>\n",
    "  bind_cols(fraud_testing) |>\n",
    "  metrics(truth = Fraud_Indicator, estimate = .pred)\n",
    "\n",
    "lm_mult_test_results"
   ]
  },
  {
   "cell_type": "code",
   "execution_count": null,
   "id": "dbc2a621-356b-4b60-90d3-5b6a13e191d5",
   "metadata": {},
   "outputs": [],
   "source": []
  }
 ],
 "metadata": {
  "kernelspec": {
   "display_name": "R",
   "language": "R",
   "name": "ir"
  },
  "language_info": {
   "codemirror_mode": "r",
   "file_extension": ".r",
   "mimetype": "text/x-r-source",
   "name": "R",
   "pygments_lexer": "r",
   "version": "4.3.1"
  }
 },
 "nbformat": 4,
 "nbformat_minor": 5
}
