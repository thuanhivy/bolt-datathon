{
 "cells": [
  {
   "cell_type": "markdown",
   "id": "3440a3fd-2d77-4d76-b2e1-9d5f97ccbfdd",
   "metadata": {},
   "source": [
    "## NullFraud Predictive Modeling"
   ]
  },
  {
   "cell_type": "markdown",
   "id": "9efcd250-c2a0-4ad7-b851-907794d1644e",
   "metadata": {},
   "source": [
    "## Loaded the required library"
   ]
  },
  {
   "cell_type": "code",
   "execution_count": 1,
   "id": "ade59ed0-307b-4125-8540-28ee462fc4bd",
   "metadata": {},
   "outputs": [
    {
     "name": "stderr",
     "output_type": "stream",
     "text": [
      "── \u001b[1mAttaching packages\u001b[22m ────────────────────────────────────── tidymodels 1.1.1 ──\n",
      "\n",
      "\u001b[32m✔\u001b[39m \u001b[34mbroom       \u001b[39m 1.0.5     \u001b[32m✔\u001b[39m \u001b[34mrecipes     \u001b[39m 1.0.8\n",
      "\u001b[32m✔\u001b[39m \u001b[34mdials       \u001b[39m 1.2.0     \u001b[32m✔\u001b[39m \u001b[34mrsample     \u001b[39m 1.2.0\n",
      "\u001b[32m✔\u001b[39m \u001b[34mdplyr       \u001b[39m 1.1.3     \u001b[32m✔\u001b[39m \u001b[34mtibble      \u001b[39m 3.2.1\n",
      "\u001b[32m✔\u001b[39m \u001b[34mggplot2     \u001b[39m 3.5.0     \u001b[32m✔\u001b[39m \u001b[34mtidyr       \u001b[39m 1.3.0\n",
      "\u001b[32m✔\u001b[39m \u001b[34minfer       \u001b[39m 1.0.5     \u001b[32m✔\u001b[39m \u001b[34mtune        \u001b[39m 1.1.2\n",
      "\u001b[32m✔\u001b[39m \u001b[34mmodeldata   \u001b[39m 1.2.0     \u001b[32m✔\u001b[39m \u001b[34mworkflows   \u001b[39m 1.1.3\n",
      "\u001b[32m✔\u001b[39m \u001b[34mparsnip     \u001b[39m 1.1.1     \u001b[32m✔\u001b[39m \u001b[34mworkflowsets\u001b[39m 1.0.1\n",
      "\u001b[32m✔\u001b[39m \u001b[34mpurrr       \u001b[39m 1.0.2     \u001b[32m✔\u001b[39m \u001b[34myardstick   \u001b[39m 1.2.0\n",
      "\n",
      "Warning message:\n",
      "“package ‘ggplot2’ was built under R version 4.3.2”\n",
      "── \u001b[1mConflicts\u001b[22m ───────────────────────────────────────── tidymodels_conflicts() ──\n",
      "\u001b[31m✖\u001b[39m \u001b[34mpurrr\u001b[39m::\u001b[32mdiscard()\u001b[39m masks \u001b[34mscales\u001b[39m::discard()\n",
      "\u001b[31m✖\u001b[39m \u001b[34mdplyr\u001b[39m::\u001b[32mfilter()\u001b[39m  masks \u001b[34mstats\u001b[39m::filter()\n",
      "\u001b[31m✖\u001b[39m \u001b[34mdplyr\u001b[39m::\u001b[32mlag()\u001b[39m     masks \u001b[34mstats\u001b[39m::lag()\n",
      "\u001b[31m✖\u001b[39m \u001b[34mrecipes\u001b[39m::\u001b[32mstep()\u001b[39m  masks \u001b[34mstats\u001b[39m::step()\n",
      "\u001b[34m•\u001b[39m Learn how to get started at \u001b[32mhttps://www.tidymodels.org/start/\u001b[39m\n",
      "\n",
      "── \u001b[1mAttaching core tidyverse packages\u001b[22m ──────────────────────── tidyverse 2.0.0 ──\n",
      "\u001b[32m✔\u001b[39m \u001b[34mforcats  \u001b[39m 1.0.0     \u001b[32m✔\u001b[39m \u001b[34mreadr    \u001b[39m 2.1.4\n",
      "\u001b[32m✔\u001b[39m \u001b[34mlubridate\u001b[39m 1.9.2     \u001b[32m✔\u001b[39m \u001b[34mstringr  \u001b[39m 1.5.0\n",
      "── \u001b[1mConflicts\u001b[22m ────────────────────────────────────────── tidyverse_conflicts() ──\n",
      "\u001b[31m✖\u001b[39m \u001b[34mreadr\u001b[39m::\u001b[32mcol_factor()\u001b[39m masks \u001b[34mscales\u001b[39m::col_factor()\n",
      "\u001b[31m✖\u001b[39m \u001b[34mpurrr\u001b[39m::\u001b[32mdiscard()\u001b[39m    masks \u001b[34mscales\u001b[39m::discard()\n",
      "\u001b[31m✖\u001b[39m \u001b[34mdplyr\u001b[39m::\u001b[32mfilter()\u001b[39m     masks \u001b[34mstats\u001b[39m::filter()\n",
      "\u001b[31m✖\u001b[39m \u001b[34mstringr\u001b[39m::\u001b[32mfixed()\u001b[39m    masks \u001b[34mrecipes\u001b[39m::fixed()\n",
      "\u001b[31m✖\u001b[39m \u001b[34mdplyr\u001b[39m::\u001b[32mlag()\u001b[39m        masks \u001b[34mstats\u001b[39m::lag()\n",
      "\u001b[31m✖\u001b[39m \u001b[34mreadr\u001b[39m::\u001b[32mspec()\u001b[39m       masks \u001b[34myardstick\u001b[39m::spec()\n",
      "\u001b[36mℹ\u001b[39m Use the conflicted package (\u001b[3m\u001b[34m<http://conflicted.r-lib.org/>\u001b[39m\u001b[23m) to force all conflicts to become errors\n"
     ]
    }
   ],
   "source": [
    "library(tidymodels)\n",
    "library(tidyverse)\n",
    "library(readxl)\n",
    "library(dplyr)\n",
    "\n",
    "# Setting a seed so our analysis is random but reproducible\n",
    "set.seed(2005)"
   ]
  },
  {
   "cell_type": "markdown",
   "id": "850e904c-5b62-42e0-a352-7f133c90b4dd",
   "metadata": {},
   "source": [
    "## Cleaning and wrangling the data "
   ]
  },
  {
   "cell_type": "code",
   "execution_count": 2,
   "id": "8c287063-b6b3-46c5-a43e-d1df5dc0785c",
   "metadata": {},
   "outputs": [],
   "source": [
    "# Read the data\n",
    "fraud_data <- read_excel(\"BOLT Data Set.xlsx\")\n",
    "\n",
    "#Rename the column\n",
    "\n",
    "fraud_data <- fraud_data |>\n",
    "rename(\"Card_Identifier\" = \"Card Identifier\", \"Transaction_Date\" = \"Transaction Date\", \"Transaction_Time\" = \"Transaction Time\",\n",
    "       \"Risk_Assessment\" = \"Risk Assessment\", \"Payment_Method\" = \"Payment Method\", \"Transaction_Value\" = \"Transaction Value\",\n",
    "       \"Merchant_Location\" = \"Merchant Location\", \"Card_Present_Status\" = \"Card Present Status\", \n",
    "       \"Chip_Usage\" = \"Chip Usage\" , \"Cross_border_Transaction\" = \"Cross-border Transaction (Yes/No)\",\n",
    "        \"Acquiring_Institution_ID\" = \"Acquiring Institution ID\", \"Merchant_Identifier\" = \"Merchant Identifier\", \n",
    "       \"Merchant_Category_Code\" = \"Merchant Category Code (MCC)\", \"Fraud_Indicator\" = \"Fraud Indicator (Yes/No)\") \n"
   ]
  },
  {
   "cell_type": "code",
   "execution_count": 3,
   "id": "52dad766-fde6-461d-85cc-6354be617904",
   "metadata": {},
   "outputs": [
    {
     "name": "stdout",
     "output_type": "stream",
     "text": [
      "Rows: 100,000\n",
      "Columns: 14\n",
      "$ Card_Identifier          \u001b[3m\u001b[90m<fct>\u001b[39m\u001b[23m card 1, card 2, card 3, card 4, card 5, card …\n",
      "$ Transaction_Date         \u001b[3m\u001b[90m<dttm>\u001b[39m\u001b[23m 2023-05-11, 2023-06-05, 2023-06-05, 2023-07-…\n",
      "$ Transaction_Time         \u001b[3m\u001b[90m<chr>\u001b[39m\u001b[23m \"16:22:14.0\", \"15:16:35.0\", \"11:57:40.0\", \"18…\n",
      "$ Risk_Assessment          \u001b[3m\u001b[90m<dbl>\u001b[39m\u001b[23m 362, 602, 482, 947, 1382, 612, 1327, 1037, 49…\n",
      "$ Payment_Method           \u001b[3m\u001b[90m<fct>\u001b[39m\u001b[23m Paypass - Contactless, Online, Unknown, Onlin…\n",
      "$ Transaction_Value        \u001b[3m\u001b[90m<dbl>\u001b[39m\u001b[23m 13.98, 24.64, 15.00, 30.56, 50.85, 75.77, 0.0…\n",
      "$ Merchant_Location        \u001b[3m\u001b[90m<fct>\u001b[39m\u001b[23m USA, USA, USA, USA, USA, USA, USA, USA, USA, …\n",
      "$ Card_Present_Status      \u001b[3m\u001b[90m<dbl>\u001b[39m\u001b[23m 0, 0, 0, 0, 0, 0, 0, 0, 0, 0, 0, 0, 0, 0, 0, …\n",
      "$ Chip_Usage               \u001b[3m\u001b[90m<dbl>\u001b[39m\u001b[23m 1, 0, 0, 0, 0, 1, 0, 0, 0, 1, 1, 0, 0, 0, 0, …\n",
      "$ Cross_border_Transaction \u001b[3m\u001b[90m<dbl>\u001b[39m\u001b[23m 0, 0, 0, 0, 0, 0, 0, 0, 0, 0, 1, 0, 1, 1, 0, …\n",
      "$ Acquiring_Institution_ID \u001b[3m\u001b[90m<fct>\u001b[39m\u001b[23m acquirer 1, acquirer 2, acquirer 3, acquirer …\n",
      "$ Merchant_Identifier      \u001b[3m\u001b[90m<fct>\u001b[39m\u001b[23m merchant 1, merchant 2, merchant 3, merchant …\n",
      "$ Merchant_Category_Code   \u001b[3m\u001b[90m<dbl>\u001b[39m\u001b[23m 5812, 4121, 7211, 5814, 5812, 5812, 5816, 581…\n",
      "$ Fraud_Indicator          \u001b[3m\u001b[90m<dbl>\u001b[39m\u001b[23m 0, 0, 0, 0, 0, 0, 0, 0, 0, 0, 0, 0, 0, 0, 0, …\n"
     ]
    }
   ],
   "source": [
    "# Converting to correct data types\n",
    "numeric_column_names <- c(\"Risk_Assessment\", \"Transaction_Value\")\n",
    "factor_column_names <- c(\"Card_Identifier\", \"Payment_Method\", \"Merchant_Location\", \"Card_Present_Status\", \"Chip_Usage\",\n",
    "                       \"Cross_border_Transaction\", \"Acquiring_Institution_ID\", \"Merchant_Identifier\", \n",
    "                        \"Fraud_Indicator\")\n",
    "fraud_data <- fraud_data |>\n",
    "    mutate(across(all_of(numeric_column_names), as.numeric)) |>\n",
    "    mutate(across(all_of(factor_column_names), as_factor)) \n",
    "\n",
    "fraud_data$Chip_Usage <- ifelse(fraud_data$Chip_Usage == \"Yes\", 1, 0)\n",
    "fraud_data$Cross_border_Transaction <- ifelse(fraud_data$Cross_border_Transaction == \"Yes\", 1, 0)\n",
    "fraud_data$Fraud_Indicator <- ifelse(fraud_data$Fraud_Indicator == \"Yes\", 1, 0)\n",
    "fraud_data$Card_Present_Status <- ifelse(fraud_data$Card_Present_Status == \"Yes\", 1, 0)\n",
    "    \n",
    "glimpse(fraud_data)"
   ]
  },
  {
   "cell_type": "markdown",
   "id": "87e8fa4a-46e1-4d61-b2ef-8097265f4ab5",
   "metadata": {},
   "source": [
    "## Splitting the data "
   ]
  },
  {
   "cell_type": "code",
   "execution_count": 4,
   "id": "bd19b220-136c-4f31-8d50-462b22a11797",
   "metadata": {},
   "outputs": [],
   "source": [
    "#Split the data into training and testing set\n",
    "fraud_data_split <- fraud_data |>\n",
    "    initial_split(prop = 0.75, strata = \"Fraud_Indicator\")\n",
    "\n",
    "fraud_training <- training(fraud_data_split)\n",
    "fraud_testing <- testing(fraud_data_split)\n"
   ]
  },
  {
   "cell_type": "markdown",
   "id": "69005dda-c992-4f57-bca4-dd9ed3b95177",
   "metadata": {},
   "source": [
    "## Stepwise Selection"
   ]
  },
  {
   "cell_type": "code",
   "execution_count": 5,
   "id": "ae1a7067-496e-41b8-9808-4c8629fd82b5",
   "metadata": {},
   "outputs": [
    {
     "name": "stderr",
     "output_type": "stream",
     "text": [
      "\n",
      "Attaching package: ‘MASS’\n",
      "\n",
      "\n",
      "The following object is masked from ‘package:dplyr’:\n",
      "\n",
      "    select\n",
      "\n",
      "\n",
      "Loading required package: lattice\n",
      "\n",
      "\n",
      "Attaching package: ‘caret’\n",
      "\n",
      "\n",
      "The following objects are masked from ‘package:yardstick’:\n",
      "\n",
      "    precision, recall, sensitivity, specificity\n",
      "\n",
      "\n",
      "The following object is masked from ‘package:purrr’:\n",
      "\n",
      "    lift\n",
      "\n",
      "\n"
     ]
    }
   ],
   "source": [
    "#Loaded the required library\n",
    "#install.packages('MASS')\n",
    "library(MASS)\n",
    "library(caret)"
   ]
  },
  {
   "cell_type": "code",
   "execution_count": 6,
   "id": "7dd10d5c-bbda-4f9e-b693-e8986784c4dc",
   "metadata": {},
   "outputs": [],
   "source": [
    "logit_1 <- glm(Fraud_Indicator ~ Risk_Assessment + Transaction_Value\n",
    "               + Card_Present_Status + Chip_Usage + Cross_border_Transaction, \n",
    "               family = binomial,data = fraud_training )"
   ]
  },
  {
   "cell_type": "code",
   "execution_count": 7,
   "id": "a17fbee0-084a-4333-bc92-443046f7839b",
   "metadata": {},
   "outputs": [
    {
     "name": "stdout",
     "output_type": "stream",
     "text": [
      "Start:  AIC=2397.1\n",
      "Fraud_Indicator ~ Risk_Assessment + Transaction_Value + Card_Present_Status + \n",
      "    Chip_Usage + Cross_border_Transaction\n",
      "\n",
      "\n",
      "Step:  AIC=2397.1\n",
      "Fraud_Indicator ~ Risk_Assessment + Transaction_Value + Chip_Usage + \n",
      "    Cross_border_Transaction\n",
      "\n",
      "                           Df Deviance    AIC\n",
      "- Transaction_Value         1   2388.1 2396.1\n",
      "- Cross_border_Transaction  1   2388.1 2396.1\n",
      "<none>                          2387.1 2397.1\n",
      "- Chip_Usage                1   2406.8 2414.8\n",
      "- Risk_Assessment           1   2696.5 2704.5\n",
      "\n",
      "Step:  AIC=2396.1\n",
      "Fraud_Indicator ~ Risk_Assessment + Chip_Usage + Cross_border_Transaction\n",
      "\n",
      "                           Df Deviance    AIC\n",
      "- Cross_border_Transaction  1   2389.2 2395.2\n",
      "<none>                          2388.1 2396.1\n",
      "- Chip_Usage                1   2407.8 2413.8\n",
      "- Risk_Assessment           1   2697.0 2703.0\n",
      "\n",
      "Step:  AIC=2395.15\n",
      "Fraud_Indicator ~ Risk_Assessment + Chip_Usage\n",
      "\n",
      "                  Df Deviance    AIC\n",
      "<none>                 2389.2 2395.2\n",
      "- Chip_Usage       1   2408.1 2412.1\n",
      "- Risk_Assessment  1   2756.1 2760.1\n"
     ]
    }
   ],
   "source": [
    "logit_2 <- stepAIC(logit_1)"
   ]
  },
  {
   "cell_type": "code",
   "execution_count": null,
   "id": "44d32cf4-0a62-4270-9517-391b33a5af1e",
   "metadata": {},
   "outputs": [],
   "source": []
  },
  {
   "cell_type": "code",
   "execution_count": null,
   "id": "f036f637-02d6-4150-a68f-a9a7e7b11c57",
   "metadata": {},
   "outputs": [],
   "source": []
  }
 ],
 "metadata": {
  "kernelspec": {
   "display_name": "R",
   "language": "R",
   "name": "ir"
  },
  "language_info": {
   "codemirror_mode": "r",
   "file_extension": ".r",
   "mimetype": "text/x-r-source",
   "name": "R",
   "pygments_lexer": "r",
   "version": "4.3.1"
  }
 },
 "nbformat": 4,
 "nbformat_minor": 5
}
