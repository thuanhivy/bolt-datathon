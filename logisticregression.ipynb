{
 "cells": [
  {
   "cell_type": "markdown",
   "id": "db50c381-7f9c-4938-adbc-ff0e6d31420c",
   "metadata": {},
   "source": [
    "## NullFraud Predictive Modeling"
   ]
  },
  {
   "cell_type": "markdown",
   "id": "6c04916a-9c12-4ab4-87da-9fb00aee29d7",
   "metadata": {},
   "source": [
    "## Loaded the required library"
   ]
  },
  {
   "cell_type": "code",
   "execution_count": 1,
   "id": "5aa04894-929e-4741-8c58-88efc812d8a1",
   "metadata": {},
   "outputs": [
    {
     "name": "stderr",
     "output_type": "stream",
     "text": [
      "── \u001b[1mAttaching packages\u001b[22m ────────────────────────────────────── tidymodels 1.1.1 ──\n",
      "\n",
      "\u001b[32m✔\u001b[39m \u001b[34mbroom       \u001b[39m 1.0.5     \u001b[32m✔\u001b[39m \u001b[34mrecipes     \u001b[39m 1.0.8\n",
      "\u001b[32m✔\u001b[39m \u001b[34mdials       \u001b[39m 1.2.0     \u001b[32m✔\u001b[39m \u001b[34mrsample     \u001b[39m 1.2.0\n",
      "\u001b[32m✔\u001b[39m \u001b[34mdplyr       \u001b[39m 1.1.3     \u001b[32m✔\u001b[39m \u001b[34mtibble      \u001b[39m 3.2.1\n",
      "\u001b[32m✔\u001b[39m \u001b[34mggplot2     \u001b[39m 3.5.0     \u001b[32m✔\u001b[39m \u001b[34mtidyr       \u001b[39m 1.3.0\n",
      "\u001b[32m✔\u001b[39m \u001b[34minfer       \u001b[39m 1.0.5     \u001b[32m✔\u001b[39m \u001b[34mtune        \u001b[39m 1.1.2\n",
      "\u001b[32m✔\u001b[39m \u001b[34mmodeldata   \u001b[39m 1.2.0     \u001b[32m✔\u001b[39m \u001b[34mworkflows   \u001b[39m 1.1.3\n",
      "\u001b[32m✔\u001b[39m \u001b[34mparsnip     \u001b[39m 1.1.1     \u001b[32m✔\u001b[39m \u001b[34mworkflowsets\u001b[39m 1.0.1\n",
      "\u001b[32m✔\u001b[39m \u001b[34mpurrr       \u001b[39m 1.0.2     \u001b[32m✔\u001b[39m \u001b[34myardstick   \u001b[39m 1.2.0\n",
      "\n",
      "Warning message:\n",
      "“package ‘ggplot2’ was built under R version 4.3.2”\n",
      "── \u001b[1mConflicts\u001b[22m ───────────────────────────────────────── tidymodels_conflicts() ──\n",
      "\u001b[31m✖\u001b[39m \u001b[34mpurrr\u001b[39m::\u001b[32mdiscard()\u001b[39m masks \u001b[34mscales\u001b[39m::discard()\n",
      "\u001b[31m✖\u001b[39m \u001b[34mdplyr\u001b[39m::\u001b[32mfilter()\u001b[39m  masks \u001b[34mstats\u001b[39m::filter()\n",
      "\u001b[31m✖\u001b[39m \u001b[34mdplyr\u001b[39m::\u001b[32mlag()\u001b[39m     masks \u001b[34mstats\u001b[39m::lag()\n",
      "\u001b[31m✖\u001b[39m \u001b[34mrecipes\u001b[39m::\u001b[32mstep()\u001b[39m  masks \u001b[34mstats\u001b[39m::step()\n",
      "\u001b[34m•\u001b[39m Use suppressPackageStartupMessages() to eliminate package startup messages\n",
      "\n",
      "── \u001b[1mAttaching core tidyverse packages\u001b[22m ──────────────────────── tidyverse 2.0.0 ──\n",
      "\u001b[32m✔\u001b[39m \u001b[34mforcats  \u001b[39m 1.0.0     \u001b[32m✔\u001b[39m \u001b[34mreadr    \u001b[39m 2.1.4\n",
      "\u001b[32m✔\u001b[39m \u001b[34mlubridate\u001b[39m 1.9.2     \u001b[32m✔\u001b[39m \u001b[34mstringr  \u001b[39m 1.5.0\n",
      "── \u001b[1mConflicts\u001b[22m ────────────────────────────────────────── tidyverse_conflicts() ──\n",
      "\u001b[31m✖\u001b[39m \u001b[34mreadr\u001b[39m::\u001b[32mcol_factor()\u001b[39m masks \u001b[34mscales\u001b[39m::col_factor()\n",
      "\u001b[31m✖\u001b[39m \u001b[34mpurrr\u001b[39m::\u001b[32mdiscard()\u001b[39m    masks \u001b[34mscales\u001b[39m::discard()\n",
      "\u001b[31m✖\u001b[39m \u001b[34mdplyr\u001b[39m::\u001b[32mfilter()\u001b[39m     masks \u001b[34mstats\u001b[39m::filter()\n",
      "\u001b[31m✖\u001b[39m \u001b[34mstringr\u001b[39m::\u001b[32mfixed()\u001b[39m    masks \u001b[34mrecipes\u001b[39m::fixed()\n",
      "\u001b[31m✖\u001b[39m \u001b[34mdplyr\u001b[39m::\u001b[32mlag()\u001b[39m        masks \u001b[34mstats\u001b[39m::lag()\n",
      "\u001b[31m✖\u001b[39m \u001b[34mreadr\u001b[39m::\u001b[32mspec()\u001b[39m       masks \u001b[34myardstick\u001b[39m::spec()\n",
      "\u001b[36mℹ\u001b[39m Use the conflicted package (\u001b[3m\u001b[34m<http://conflicted.r-lib.org/>\u001b[39m\u001b[23m) to force all conflicts to become errors\n"
     ]
    }
   ],
   "source": [
    "library(tidymodels)\n",
    "library(tidyverse)\n",
    "library(readxl)\n",
    "library(dplyr)\n",
    "library(repr)\n",
    "\n",
    "# Setting a seed so our analysis is random but reproducible\n",
    "set.seed(2005)"
   ]
  },
  {
   "cell_type": "markdown",
   "id": "beef4a2c-1aa0-41b8-a38e-cbe0a044f587",
   "metadata": {},
   "source": [
    "## Cleaning and wrangling the data"
   ]
  },
  {
   "cell_type": "code",
   "execution_count": 2,
   "id": "dd10d03e-dfde-4fd1-9e34-82e33e8aa915",
   "metadata": {},
   "outputs": [],
   "source": [
    "# Read the data\n",
    "fraud_data <- read_excel(\"BOLT Data Set.xlsx\")\n",
    "\n",
    "#Rename the column\n",
    "\n",
    "fraud_data <- fraud_data |>\n",
    "rename(\"Card_Identifier\" = \"Card Identifier\", \"Transaction_Date\" = \"Transaction Date\", \"Transaction_Time\" = \"Transaction Time\",\n",
    "       \"Risk_Assessment\" = \"Risk Assessment\", \"Payment_Method\" = \"Payment Method\", \"Transaction_Value\" = \"Transaction Value\",\n",
    "       \"Merchant_Location\" = \"Merchant Location\", \"Card_Present_Status\" = \"Card Present Status\", \n",
    "       \"Chip_Usage\" = \"Chip Usage\" , \"Cross_border_Transaction\" = \"Cross-border Transaction (Yes/No)\",\n",
    "        \"Acquiring_Institution_ID\" = \"Acquiring Institution ID\", \"Merchant_Identifier\" = \"Merchant Identifier\", \n",
    "       \"Merchant_Category_Code\" = \"Merchant Category Code (MCC)\", \"Fraud_Indicator\" = \"Fraud Indicator (Yes/No)\") \n"
   ]
  },
  {
   "cell_type": "code",
   "execution_count": 3,
   "id": "fcb41c55-446c-4d91-a5a0-50beacfcae58",
   "metadata": {},
   "outputs": [
    {
     "name": "stdout",
     "output_type": "stream",
     "text": [
      "Rows: 100,000\n",
      "Columns: 14\n",
      "$ Card_Identifier          \u001b[3m\u001b[90m<fct>\u001b[39m\u001b[23m card 1, card 2, card 3, card 4, card 5, card …\n",
      "$ Transaction_Date         \u001b[3m\u001b[90m<dttm>\u001b[39m\u001b[23m 2023-05-11, 2023-06-05, 2023-06-05, 2023-07-…\n",
      "$ Transaction_Time         \u001b[3m\u001b[90m<chr>\u001b[39m\u001b[23m \"16:22:14.0\", \"15:16:35.0\", \"11:57:40.0\", \"18…\n",
      "$ Risk_Assessment          \u001b[3m\u001b[90m<dbl>\u001b[39m\u001b[23m 362, 602, 482, 947, 1382, 612, 1327, 1037, 49…\n",
      "$ Payment_Method           \u001b[3m\u001b[90m<fct>\u001b[39m\u001b[23m Paypass - Contactless, Online, Unknown, Onlin…\n",
      "$ Transaction_Value        \u001b[3m\u001b[90m<dbl>\u001b[39m\u001b[23m 13.98, 24.64, 15.00, 30.56, 50.85, 75.77, 0.0…\n",
      "$ Merchant_Location        \u001b[3m\u001b[90m<fct>\u001b[39m\u001b[23m USA, USA, USA, USA, USA, USA, USA, USA, USA, …\n",
      "$ Card_Present_Status      \u001b[3m\u001b[90m<dbl>\u001b[39m\u001b[23m 0, 0, 0, 0, 0, 0, 0, 0, 0, 0, 0, 0, 0, 0, 0, …\n",
      "$ Chip_Usage               \u001b[3m\u001b[90m<dbl>\u001b[39m\u001b[23m 1, 0, 0, 0, 0, 1, 0, 0, 0, 1, 1, 0, 0, 0, 0, …\n",
      "$ Cross_border_Transaction \u001b[3m\u001b[90m<dbl>\u001b[39m\u001b[23m 0, 0, 0, 0, 0, 0, 0, 0, 0, 0, 1, 0, 1, 1, 0, …\n",
      "$ Acquiring_Institution_ID \u001b[3m\u001b[90m<fct>\u001b[39m\u001b[23m acquirer 1, acquirer 2, acquirer 3, acquirer …\n",
      "$ Merchant_Identifier      \u001b[3m\u001b[90m<fct>\u001b[39m\u001b[23m merchant 1, merchant 2, merchant 3, merchant …\n",
      "$ Merchant_Category_Code   \u001b[3m\u001b[90m<dbl>\u001b[39m\u001b[23m 5812, 4121, 7211, 5814, 5812, 5812, 5816, 581…\n",
      "$ Fraud_Indicator          \u001b[3m\u001b[90m<dbl>\u001b[39m\u001b[23m 0, 0, 0, 0, 0, 0, 0, 0, 0, 0, 0, 0, 0, 0, 0, …\n"
     ]
    }
   ],
   "source": [
    "# Converting to correct data types\n",
    "numeric_column_names <- c(\"Risk_Assessment\", \"Transaction_Value\")\n",
    "factor_column_names <- c(\"Card_Identifier\", \"Payment_Method\", \"Merchant_Location\", \"Card_Present_Status\", \"Chip_Usage\",\n",
    "                       \"Cross_border_Transaction\", \"Acquiring_Institution_ID\", \"Merchant_Identifier\", \n",
    "                        \"Fraud_Indicator\")\n",
    "fraud_data <- fraud_data |>\n",
    "    mutate(across(all_of(numeric_column_names), as.numeric)) |>\n",
    "    mutate(across(all_of(factor_column_names), as_factor)) \n",
    "\n",
    "fraud_data$Chip_Usage <- ifelse(fraud_data$Chip_Usage == \"Yes\", 1, 0)\n",
    "fraud_data$Cross_border_Transaction <- ifelse(fraud_data$Cross_border_Transaction == \"Yes\", 1, 0)\n",
    "fraud_data$Fraud_Indicator <- ifelse(fraud_data$Fraud_Indicator == \"Yes\", 1, 0)\n",
    "fraud_data$Card_Present_Status <- ifelse(fraud_data$Card_Present_Status == \"Yes\", 1, 0)\n",
    "    \n",
    "glimpse(fraud_data)"
   ]
  },
  {
   "cell_type": "code",
   "execution_count": 4,
   "id": "8b952861-dfa6-4617-8cc3-8e0e53f34877",
   "metadata": {},
   "outputs": [],
   "source": [
    "#Split the data into training and testing set\n",
    "fraud_data_split <- fraud_data |>\n",
    "    initial_split(prop = 0.75, strata = \"Fraud_Indicator\")\n",
    "\n",
    "fraud_training <- training(fraud_data_split)\n",
    "fraud_testing <- testing(fraud_data_split)\n"
   ]
  },
  {
   "cell_type": "code",
   "execution_count": 5,
   "id": "819cd174-99fc-475a-a231-9c5854087e55",
   "metadata": {},
   "outputs": [
    {
     "name": "stderr",
     "output_type": "stream",
     "text": [
      "Warning message in install.packages(\"aod\"):\n",
      "“installation of package ‘aod’ had non-zero exit status”\n",
      "Updating HTML index of packages in '.Library'\n",
      "\n",
      "Making 'packages.html' ...\n",
      " done\n",
      "\n",
      "Warning message:\n",
      "“unable to access index for repository https://cran.us.r-project.org/src/contrib:\n",
      "  cannot open URL 'https://cran.us.r-project.org/src/contrib/PACKAGES'”\n",
      "Warning message:\n",
      "“package ‘glmnet’ is not available for this version of R\n",
      "\n",
      "A version of this package for your version of R might be available elsewhere,\n",
      "see the ideas at\n",
      "https://cran.r-project.org/doc/manuals/r-patched/R-admin.html#Installing-packages”\n"
     ]
    }
   ],
   "source": [
    "# Installing libraries\n",
    "install.packages(\"aod\")\n",
    "#install.packages(\"glmnet\")\n",
    "install.packages(\"glmnet\", repos = \"https://cran.us.r-project.org\")"
   ]
  },
  {
   "cell_type": "code",
   "execution_count": 6,
   "id": "5d793b8c-0273-4b5a-b9df-b8b3b599ff37",
   "metadata": {},
   "outputs": [
    {
     "name": "stderr",
     "output_type": "stream",
     "text": [
      "Loading required package: lattice\n",
      "\n",
      "\n",
      "Attaching package: ‘caret’\n",
      "\n",
      "\n",
      "The following objects are masked from ‘package:yardstick’:\n",
      "\n",
      "    precision, recall, sensitivity, specificity\n",
      "\n",
      "\n",
      "The following object is masked from ‘package:purrr’:\n",
      "\n",
      "    lift\n",
      "\n",
      "\n"
     ]
    },
    {
     "ename": "ERROR",
     "evalue": "Error in library(glmnet): there is no package called ‘glmnet’\n",
     "output_type": "error",
     "traceback": [
      "Error in library(glmnet): there is no package called ‘glmnet’\nTraceback:\n",
      "1. library(glmnet)"
     ]
    }
   ],
   "source": [
    "library(caret)\n",
    "library(glmnet)"
   ]
  },
  {
   "cell_type": "markdown",
   "id": "5941e09f-d3b3-48be-8e3d-16cee9aef8cf",
   "metadata": {},
   "source": [
    "## Making predictions based on the testing data"
   ]
  },
  {
   "cell_type": "code",
   "execution_count": null,
   "id": "8fdb529f-1573-428c-a569-754417ebebb0",
   "metadata": {},
   "outputs": [],
   "source": [
    "# Train a logistic regression model\n",
    "model <- logistic_reg(mixture = double(1), penalty = double(1)) |>\n",
    "  set_engine(\"glmnet\") |>\n",
    "  set_mode(\"classification\") |>\n",
    "  fit(Fraud_Indicator ~ ., data = fraud_training)\n",
    "\n",
    "# Model summary\n",
    "tidy(model)\n",
    "\n",
    "# Class Predictions\n",
    "pred_class <- predict(model,\n",
    "                      new_data = fraud_testing,\n",
    "                      type = \"class\")\n",
    "\n",
    "# Class Probabilities\n",
    "pred_proba <- predict(model,\n",
    "                      new_data = fraud_testing,\n",
    "                      type = \"prob\")"
   ]
  },
  {
   "cell_type": "code",
   "execution_count": null,
   "id": "4ad17044-5648-4b23-937a-9308a4dbab07",
   "metadata": {},
   "outputs": [],
   "source": []
  },
  {
   "cell_type": "code",
   "execution_count": null,
   "id": "4840b89d-93b9-4703-88e5-b91bfb0baa53",
   "metadata": {},
   "outputs": [],
   "source": []
  },
  {
   "cell_type": "code",
   "execution_count": null,
   "id": "b97c20a9-7c9c-47df-ac9b-8f3ca2c5d9c7",
   "metadata": {},
   "outputs": [],
   "source": []
  }
 ],
 "metadata": {
  "kernelspec": {
   "display_name": "R",
   "language": "R",
   "name": "ir"
  },
  "language_info": {
   "codemirror_mode": "r",
   "file_extension": ".r",
   "mimetype": "text/x-r-source",
   "name": "R",
   "pygments_lexer": "r",
   "version": "4.3.1"
  }
 },
 "nbformat": 4,
 "nbformat_minor": 5
}
