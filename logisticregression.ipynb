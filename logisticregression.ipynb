{
 "cells": [
  {
   "cell_type": "markdown",
   "id": "6449e6cf-4efc-44e7-8c62-db0140e611fe",
   "metadata": {},
   "source": [
    "## NullFraud Predictive Modeling"
   ]
  },
  {
   "cell_type": "markdown",
   "id": "5c4ff2c8-27e0-447b-bdab-3f943bd1c151",
   "metadata": {},
   "source": [
    "## Loaded the required library"
   ]
  },
  {
   "cell_type": "code",
   "execution_count": 25,
   "id": "cd45db68-1864-41f0-b7bb-2214c2946beb",
   "metadata": {
    "tags": []
   },
   "outputs": [
    {
     "name": "stderr",
     "output_type": "stream",
     "text": [
      "Updating HTML index of packages in '.Library'\n",
      "\n",
      "Making 'packages.html' ...\n",
      " done\n",
      "\n",
      "Updating HTML index of packages in '.Library'\n",
      "\n",
      "Making 'packages.html' ...\n",
      " done\n",
      "\n"
     ]
    }
   ],
   "source": [
    "library(tidymodels)\n",
    "library(tidyverse)\n",
    "library(dplyr)\n",
    "library(repr)\n",
    "# Installing libraries\n",
    "install.packages(\"aod\")\n",
    "install.packages(\"glmnet\")\n",
    "library(caret)\n",
    "library(glmnet)\n",
    "library(readr)\n",
    "# Setting a seed so our analysis is random but reproducible\n",
    "set.seed(2005)"
   ]
  },
  {
   "cell_type": "markdown",
   "id": "c7f53c5f-29d9-43b2-9e33-8d8ab6f5d48b",
   "metadata": {},
   "source": [
    "# Cleaning and wrangling the data"
   ]
  },
  {
   "cell_type": "code",
   "execution_count": 27,
   "id": "c231250e-ee48-4021-acfa-6b7056663b5f",
   "metadata": {
    "tags": []
   },
   "outputs": [
    {
     "name": "stderr",
     "output_type": "stream",
     "text": [
      "\u001b[1mRows: \u001b[22m\u001b[34m100000\u001b[39m \u001b[1mColumns: \u001b[22m\u001b[34m14\u001b[39m\n",
      "\u001b[36m──\u001b[39m \u001b[1mColumn specification\u001b[22m \u001b[36m────────────────────────────────────────────────────────\u001b[39m\n",
      "\u001b[1mDelimiter:\u001b[22m \",\"\n",
      "\u001b[31mchr\u001b[39m  (10): Card Identifier, Transaction Time, Payment Method, Merchant Locat...\n",
      "\u001b[32mdbl\u001b[39m   (3): Risk Assessment, Transaction Value, Merchant Category Code (MCC)\n",
      "\u001b[34mdttm\u001b[39m  (1): Transaction Date\n",
      "\n",
      "\u001b[36mℹ\u001b[39m Use `spec()` to retrieve the full column specification for this data.\n",
      "\u001b[36mℹ\u001b[39m Specify the column types or set `show_col_types = FALSE` to quiet this message.\n"
     ]
    }
   ],
   "source": [
    "# Read the data\n",
    "fraud_data <- read_csv(\"BOLT Data Set.csv\")\n",
    "\n",
    "#Rename the column\n",
    "\n",
    "fraud_data <- fraud_data |>\n",
    "rename(\"Card_Identifier\" = \"Card Identifier\", \"Transaction_Date\" = \"Transaction Date\", \"Transaction_Time\" = \"Transaction Time\",\n",
    "       \"Risk_Assessment\" = \"Risk Assessment\", \"Payment_Method\" = \"Payment Method\", \"Transaction_Value\" = \"Transaction Value\",\n",
    "       \"Merchant_Location\" = \"Merchant Location\", \"Card_Present_Status\" = \"Card Present Status\", \n",
    "       \"Chip_Usage\" = \"Chip Usage\" , \"Cross_border_Transaction\" = \"Cross-border Transaction (Yes/No)\",\n",
    "        \"Acquiring_Institution_ID\" = \"Acquiring Institution ID\", \"Merchant_Identifier\" = \"Merchant Identifier\", \n",
    "       \"Merchant_Category_Code\" = \"Merchant Category Code (MCC)\", \"Fraud_Indicator\" = \"Fraud Indicator (Yes/No)\") \n",
    "     "
   ]
  },
  {
   "cell_type": "markdown",
   "id": "f08500d6-baac-49d4-99b9-07623c616915",
   "metadata": {},
   "source": [
    "The purpose of renaming the columns is to make them more suitable for analysis or to adhere to a specific naming convention."
   ]
  },
  {
   "cell_type": "code",
   "execution_count": 28,
   "id": "98ecb250-a762-47f4-892c-bfc2f88ecd1c",
   "metadata": {
    "tags": []
   },
   "outputs": [],
   "source": [
    "# Converting to correct data types\n",
    "numeric_column_names <- c(\"Risk_Assessment\", \"Transaction_Value\")\n",
    "factor_column_names <- c(\"Card_Identifier\", \"Payment_Method\", \"Merchant_Location\", \"Card_Present_Status\", \"Chip_Usage\",\n",
    "                       \"Cross_border_Transaction\", \"Acquiring_Institution_ID\", \"Merchant_Identifier\", \n",
    "                        \"Fraud_Indicator\")"
   ]
  },
  {
   "cell_type": "code",
   "execution_count": 29,
   "id": "a3d3efe7-3688-40c1-8139-88b59934419b",
   "metadata": {
    "tags": []
   },
   "outputs": [
    {
     "name": "stdout",
     "output_type": "stream",
     "text": [
      "Rows: 100,000\n",
      "Columns: 14\n",
      "$ Card_Identifier          \u001b[3m\u001b[90m<fct>\u001b[39m\u001b[23m card 1, card 2, card 3, card 4, card 5, card …\n",
      "$ Transaction_Date         \u001b[3m\u001b[90m<dttm>\u001b[39m\u001b[23m 2023-05-11, 2023-06-05, 2023-06-05, 2023-07-…\n",
      "$ Transaction_Time         \u001b[3m\u001b[90m<chr>\u001b[39m\u001b[23m \"16:22:14.0\", \"15:16:35.0\", \"11:57:40.0\", \"18…\n",
      "$ Risk_Assessment          \u001b[3m\u001b[90m<dbl>\u001b[39m\u001b[23m 362, 602, 482, 947, 1382, 612, 1327, 1037, 49…\n",
      "$ Payment_Method           \u001b[3m\u001b[90m<fct>\u001b[39m\u001b[23m Paypass - Contactless, Online, Unknown, Onlin…\n",
      "$ Transaction_Value        \u001b[3m\u001b[90m<dbl>\u001b[39m\u001b[23m 13.98, 24.64, 15.00, 30.56, 50.85, 75.77, 0.0…\n",
      "$ Merchant_Location        \u001b[3m\u001b[90m<fct>\u001b[39m\u001b[23m USA, USA, USA, USA, USA, USA, USA, USA, USA, …\n",
      "$ Card_Present_Status      \u001b[3m\u001b[90m<fct>\u001b[39m\u001b[23m 0, 0, 0, 0, 0, 0, 0, 0, 0, 0, 0, 0, 0, 0, 0, …\n",
      "$ Chip_Usage               \u001b[3m\u001b[90m<fct>\u001b[39m\u001b[23m 1, 0, 0, 0, 0, 1, 0, 0, 0, 1, 1, 0, 0, 0, 0, …\n",
      "$ Cross_border_Transaction \u001b[3m\u001b[90m<fct>\u001b[39m\u001b[23m 0, 0, 0, 0, 0, 0, 0, 0, 0, 0, 1, 0, 1, 1, 0, …\n",
      "$ Acquiring_Institution_ID \u001b[3m\u001b[90m<fct>\u001b[39m\u001b[23m acquirer 1, acquirer 2, acquirer 3, acquirer …\n",
      "$ Merchant_Identifier      \u001b[3m\u001b[90m<fct>\u001b[39m\u001b[23m merchant 1, merchant 2, merchant 3, merchant …\n",
      "$ Merchant_Category_Code   \u001b[3m\u001b[90m<dbl>\u001b[39m\u001b[23m 5812, 4121, 7211, 5814, 5812, 5812, 5816, 581…\n",
      "$ Fraud_Indicator          \u001b[3m\u001b[90m<fct>\u001b[39m\u001b[23m 0, 0, 0, 0, 0, 0, 0, 0, 0, 0, 0, 0, 0, 0, 0, …\n"
     ]
    }
   ],
   "source": [
    "fraud_data$Chip_Usage <- ifelse(fraud_data$Chip_Usage == \"Yes\", 1, 0)\n",
    "fraud_data$Cross_border_Transaction <- ifelse(fraud_data$Cross_border_Transaction == \"Yes\", 1, 0)\n",
    "fraud_data$Fraud_Indicator <- ifelse(fraud_data$Fraud_Indicator == \"Yes\", 1, 0)\n",
    "fraud_data$Card_Present_Status <- ifelse(fraud_data$Card_Present_Status == \"Yes\", 1, 0)\n",
    "\n",
    "fraud_data <- fraud_data |>\n",
    "    mutate(across(all_of(numeric_column_names), as.numeric)) |>\n",
    "    mutate(across(all_of(factor_column_names), as.factor))\n",
    "\n",
    "fraud_data$Risk_Assessment <- ifelse(is.na(fraud_data$Risk_Assessment), mean(fraud_data$Risk_Assessment, na.rm = TRUE), fraud_data$Risk_Assessment)\n",
    "\n",
    "glimpse(fraud_data)"
   ]
  },
  {
   "cell_type": "markdown",
   "id": "4fdb391f-8614-42b0-8483-5129fc86b08b",
   "metadata": {},
   "source": [
    "First, I defined lists of column names to be converted to numeric and factor data types. Then, I converted binary categorical variables to numeric (0 or 1) and converted specified columns to their respective data types (numeric or factor). Finally, to tackle NA values, I imputed missing values in the \"Risk_Assessment\" column with the mean of non-missing values."
   ]
  },
  {
   "cell_type": "markdown",
   "id": "d87fe54c-aa12-4fba-ba75-491a0d03a55d",
   "metadata": {},
   "source": [
    "## Split the data set into training and testing data "
   ]
  },
  {
   "cell_type": "code",
   "execution_count": 30,
   "id": "815bcb31-7dbc-436f-9792-01792087f604",
   "metadata": {
    "tags": []
   },
   "outputs": [],
   "source": [
    "#Split the data into training and testing set\n",
    "fraud_data_split <- fraud_data |>\n",
    "    initial_split(prop = 0.8, strata = \"Fraud_Indicator\")\n",
    "\n",
    "fraud_training <- training(fraud_data_split)\n",
    "fraud_testing <- testing(fraud_data_split)"
   ]
  },
  {
   "cell_type": "markdown",
   "id": "9bd33657-1415-4d9c-9eb1-bfe7aff08be9",
   "metadata": {},
   "source": [
    "I splitted data into training and test set using the initial_split() function and the prop attribute defining the train data proportion."
   ]
  },
  {
   "cell_type": "code",
   "execution_count": 31,
   "id": "5ea1bfd5-d546-42c7-8ce1-2b8a78bb650c",
   "metadata": {
    "tags": []
   },
   "outputs": [
    {
     "data": {
      "text/html": [
       "<table class=\"dataframe\">\n",
       "<caption>A tibble: 1 × 3</caption>\n",
       "<thead>\n",
       "\t<tr><th scope=col>penalty</th><th scope=col>mixture</th><th scope=col>.config</th></tr>\n",
       "\t<tr><th scope=col>&lt;dbl&gt;</th><th scope=col>&lt;dbl&gt;</th><th scope=col>&lt;chr&gt;</th></tr>\n",
       "</thead>\n",
       "<tbody>\n",
       "\t<tr><td>1</td><td>0</td><td>Preprocessor1_Model03</td></tr>\n",
       "</tbody>\n",
       "</table>\n"
      ],
      "text/latex": [
       "A tibble: 1 × 3\n",
       "\\begin{tabular}{lll}\n",
       " penalty & mixture & .config\\\\\n",
       " <dbl> & <dbl> & <chr>\\\\\n",
       "\\hline\n",
       "\t 1 & 0 & Preprocessor1\\_Model03\\\\\n",
       "\\end{tabular}\n"
      ],
      "text/markdown": [
       "\n",
       "A tibble: 1 × 3\n",
       "\n",
       "| penalty &lt;dbl&gt; | mixture &lt;dbl&gt; | .config &lt;chr&gt; |\n",
       "|---|---|---|\n",
       "| 1 | 0 | Preprocessor1_Model03 |\n",
       "\n"
      ],
      "text/plain": [
       "  penalty mixture .config              \n",
       "1 1       0       Preprocessor1_Model03"
      ]
     },
     "metadata": {},
     "output_type": "display_data"
    }
   ],
   "source": [
    "# Define the logistic regression model with penalty and mixture hyperparameters\n",
    "log_reg <- logistic_reg(mixture = tune(), penalty = tune(), engine = \"glmnet\")\n",
    "\n",
    "# Define the grid search for the hyperparameters\n",
    "grid <- grid_regular(mixture(), penalty(), levels = c(mixture = 4, penalty = 3))\n",
    "\n",
    "# Define the workflow for the model\n",
    "log_reg_wf <- workflow() %>%\n",
    "  add_model(log_reg) %>%\n",
    "  add_formula(Fraud_Indicator ~ Risk_Assessment + Chip_Usage)\n",
    "\n",
    "# Define the resampling method for the grid search\n",
    "folds <- vfold_cv(fraud_training, v = 5)\n",
    "\n",
    "# Tune the hyperparameters using the grid search\n",
    "log_reg_tuned <- tune_grid(\n",
    "  log_reg_wf,\n",
    "  resamples = folds,\n",
    "  grid = grid,\n",
    "  control = control_grid(save_pred = TRUE))\n",
    "\n",
    "select_best(log_reg_tuned, metric = \"roc_auc\")"
   ]
  },
  {
   "cell_type": "markdown",
   "id": "11529b56-77c9-4c4a-ac56-e85e4bd41d45",
   "metadata": {},
   "source": [
    "We optimized the predictive power of the model by tuning it, which is running the model lots of times with different values of the hyperparameters, and see which one gives the best predictions."
   ]
  },
  {
   "cell_type": "code",
   "execution_count": 35,
   "id": "147b87a3-3701-4a62-bea0-e51b2e10bb86",
   "metadata": {
    "tags": []
   },
   "outputs": [
    {
     "data": {
      "text/html": [
       "<table class=\"dataframe\">\n",
       "<caption>A tibble: 3 × 3</caption>\n",
       "<thead>\n",
       "\t<tr><th scope=col>term</th><th scope=col>estimate</th><th scope=col>penalty</th></tr>\n",
       "\t<tr><th scope=col>&lt;chr&gt;</th><th scope=col>&lt;dbl&gt;</th><th scope=col>&lt;dbl&gt;</th></tr>\n",
       "</thead>\n",
       "<tbody>\n",
       "\t<tr><td>(Intercept)    </td><td>-7.177048384</td><td>0</td></tr>\n",
       "\t<tr><td>Risk_Assessment</td><td> 0.001059926</td><td>0</td></tr>\n",
       "\t<tr><td>Chip_Usage1    </td><td>-0.700844970</td><td>0</td></tr>\n",
       "</tbody>\n",
       "</table>\n"
      ],
      "text/latex": [
       "A tibble: 3 × 3\n",
       "\\begin{tabular}{lll}\n",
       " term & estimate & penalty\\\\\n",
       " <chr> & <dbl> & <dbl>\\\\\n",
       "\\hline\n",
       "\t (Intercept)     & -7.177048384 & 0\\\\\n",
       "\t Risk\\_Assessment &  0.001059926 & 0\\\\\n",
       "\t Chip\\_Usage1     & -0.700844970 & 0\\\\\n",
       "\\end{tabular}\n"
      ],
      "text/markdown": [
       "\n",
       "A tibble: 3 × 3\n",
       "\n",
       "| term &lt;chr&gt; | estimate &lt;dbl&gt; | penalty &lt;dbl&gt; |\n",
       "|---|---|---|\n",
       "| (Intercept)     | -7.177048384 | 0 |\n",
       "| Risk_Assessment |  0.001059926 | 0 |\n",
       "| Chip_Usage1     | -0.700844970 | 0 |\n",
       "\n"
      ],
      "text/plain": [
       "  term            estimate     penalty\n",
       "1 (Intercept)     -7.177048384 0      \n",
       "2 Risk_Assessment  0.001059926 0      \n",
       "3 Chip_Usage1     -0.700844970 0      "
      ]
     },
     "metadata": {},
     "output_type": "display_data"
    }
   ],
   "source": [
    "# Train a logistic regression model\n",
    "model <- logistic_reg(mixture = double(1), penalty = double(1)) %>%\n",
    "  set_engine(\"glmnet\") %>%\n",
    "  set_mode(\"classification\") %>%\n",
    "  fit(Fraud_Indicator ~ Risk_Assessment + Chip_Usage, data = fraud_training)\n",
    "\n",
    "# Model summary\n",
    "tidy(model)"
   ]
  },
  {
   "cell_type": "code",
   "execution_count": 37,
   "id": "88a5bffa-54d2-45ad-918c-b335792f0b21",
   "metadata": {},
   "outputs": [],
   "source": [
    "# Class Predictions\n",
    "pred_class <- predict(model,\n",
    "                      new_data = fraud_testing,\n",
    "                      type = \"class\")\n",
    "\n",
    "# Class Probabilities\n",
    "pred_proba <- predict(model,\n",
    "                      new_data = fraud_testing,\n",
    "                      type = \"prob\")"
   ]
  },
  {
   "cell_type": "code",
   "execution_count": 41,
   "id": "3e7e0647-9046-40e5-b8a8-76647547eb1a",
   "metadata": {
    "tags": []
   },
   "outputs": [
    {
     "data": {
      "text/plain": [
       "          Truth\n",
       "Prediction     0     1\n",
       "         0 19957    43\n",
       "         1     0     0"
      ]
     },
     "metadata": {},
     "output_type": "display_data"
    },
    {
     "data": {
      "text/html": [
       "<table class=\"dataframe\">\n",
       "<caption>A tibble: 1 × 3</caption>\n",
       "<thead>\n",
       "\t<tr><th scope=col>.metric</th><th scope=col>.estimator</th><th scope=col>.estimate</th></tr>\n",
       "\t<tr><th scope=col>&lt;chr&gt;</th><th scope=col>&lt;chr&gt;</th><th scope=col>&lt;dbl&gt;</th></tr>\n",
       "</thead>\n",
       "<tbody>\n",
       "\t<tr><td>accuracy</td><td>binary</td><td>0.99785</td></tr>\n",
       "</tbody>\n",
       "</table>\n"
      ],
      "text/latex": [
       "A tibble: 1 × 3\n",
       "\\begin{tabular}{lll}\n",
       " .metric & .estimator & .estimate\\\\\n",
       " <chr> & <chr> & <dbl>\\\\\n",
       "\\hline\n",
       "\t accuracy & binary & 0.99785\\\\\n",
       "\\end{tabular}\n"
      ],
      "text/markdown": [
       "\n",
       "A tibble: 1 × 3\n",
       "\n",
       "| .metric &lt;chr&gt; | .estimator &lt;chr&gt; | .estimate &lt;dbl&gt; |\n",
       "|---|---|---|\n",
       "| accuracy | binary | 0.99785 |\n",
       "\n"
      ],
      "text/plain": [
       "  .metric  .estimator .estimate\n",
       "1 accuracy binary     0.99785  "
      ]
     },
     "metadata": {},
     "output_type": "display_data"
    }
   ],
   "source": [
    "log_reg_final <- logistic_reg(penalty = 1, mixture = 0) %>%\n",
    "                 set_engine(\"glmnet\") %>%\n",
    "                 set_mode(\"classification\") %>%\n",
    "                 fit(Fraud_Indicator~Risk_Assessment + Chip_Usage, data = fraud_training)\n",
    "\n",
    "# Evaluate the model performance on the testing set\n",
    "pred_class <- predict(log_reg_final,\n",
    "                      new_data = fraud_testing,\n",
    "                      type = \"class\")\n",
    "results <- fraud_testing %>%\n",
    "  select(Fraud_Indicator) %>%\n",
    "  bind_cols(pred_class, pred_proba)\n",
    "\n",
    "# Create confusion matrix\n",
    "conf_mat(results, truth = Fraud_Indicator,\n",
    "         estimate = .pred_class)\n",
    "\n",
    "accuracy(results, truth = Fraud_Indicator, estimate = .pred_class)"
   ]
  },
  {
   "cell_type": "markdown",
   "id": "9d7cb636-ca92-449e-aa1e-f384b179aa7d",
   "metadata": {},
   "source": [
    "Using the best hyperparameters, we trained a logistic regression model and used it to generate predictions on test set. Then we created a confusion matrix using the true values, and the estimates"
   ]
  },
  {
   "cell_type": "code",
   "execution_count": null,
   "id": "9403644d-a4d3-44e0-84f0-a37d9c348a02",
   "metadata": {},
   "outputs": [],
   "source": []
  }
 ],
 "metadata": {
  "kernelspec": {
   "display_name": "R",
   "language": "R",
   "name": "ir"
  },
  "language_info": {
   "codemirror_mode": "r",
   "file_extension": ".r",
   "mimetype": "text/x-r-source",
   "name": "R",
   "pygments_lexer": "r",
   "version": "4.2.3"
  }
 },
 "nbformat": 4,
 "nbformat_minor": 5
}
