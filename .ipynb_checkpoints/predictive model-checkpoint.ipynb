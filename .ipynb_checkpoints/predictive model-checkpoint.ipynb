{
 "cells": [
  {
   "cell_type": "markdown",
   "id": "3440a3fd-2d77-4d76-b2e1-9d5f97ccbfdd",
   "metadata": {},
   "source": [
    "## NullFraud Predictive Modeling"
   ]
  },
  {
   "cell_type": "markdown",
   "id": "9efcd250-c2a0-4ad7-b851-907794d1644e",
   "metadata": {},
   "source": [
    "## Loaded the required library"
   ]
  },
  {
   "cell_type": "code",
   "execution_count": null,
   "id": "ade59ed0-307b-4125-8540-28ee462fc4bd",
   "metadata": {},
   "outputs": [
    {
     "name": "stderr",
     "output_type": "stream",
     "text": [
      "── \u001b[1mAttaching packages\u001b[22m ────────────────────────────────────── tidymodels 1.1.1 ──\n",
      "\n",
      "\u001b[32m✔\u001b[39m \u001b[34mbroom       \u001b[39m 1.0.5     \u001b[32m✔\u001b[39m \u001b[34mrecipes     \u001b[39m 1.0.8\n",
      "\u001b[32m✔\u001b[39m \u001b[34mdials       \u001b[39m 1.2.0     \u001b[32m✔\u001b[39m \u001b[34mrsample     \u001b[39m 1.2.0\n",
      "\u001b[32m✔\u001b[39m \u001b[34mdplyr       \u001b[39m 1.1.3     \u001b[32m✔\u001b[39m \u001b[34mtibble      \u001b[39m 3.2.1\n",
      "\u001b[32m✔\u001b[39m \u001b[34mggplot2     \u001b[39m 3.5.0     \u001b[32m✔\u001b[39m \u001b[34mtidyr       \u001b[39m 1.3.0\n",
      "\u001b[32m✔\u001b[39m \u001b[34minfer       \u001b[39m 1.0.5     \u001b[32m✔\u001b[39m \u001b[34mtune        \u001b[39m 1.1.2\n",
      "\u001b[32m✔\u001b[39m \u001b[34mmodeldata   \u001b[39m 1.2.0     \u001b[32m✔\u001b[39m \u001b[34mworkflows   \u001b[39m 1.1.3\n",
      "\u001b[32m✔\u001b[39m \u001b[34mparsnip     \u001b[39m 1.1.1     \u001b[32m✔\u001b[39m \u001b[34mworkflowsets\u001b[39m 1.0.1\n",
      "\u001b[32m✔\u001b[39m \u001b[34mpurrr       \u001b[39m 1.0.2     \u001b[32m✔\u001b[39m \u001b[34myardstick   \u001b[39m 1.2.0\n",
      "\n",
      "Warning message:\n",
      "“package ‘ggplot2’ was built under R version 4.3.2”\n",
      "── \u001b[1mConflicts\u001b[22m ───────────────────────────────────────── tidymodels_conflicts() ──\n",
      "\u001b[31m✖\u001b[39m \u001b[34mpurrr\u001b[39m::\u001b[32mdiscard()\u001b[39m masks \u001b[34mscales\u001b[39m::discard()\n",
      "\u001b[31m✖\u001b[39m \u001b[34mdplyr\u001b[39m::\u001b[32mfilter()\u001b[39m  masks \u001b[34mstats\u001b[39m::filter()\n",
      "\u001b[31m✖\u001b[39m \u001b[34mdplyr\u001b[39m::\u001b[32mlag()\u001b[39m     masks \u001b[34mstats\u001b[39m::lag()\n",
      "\u001b[31m✖\u001b[39m \u001b[34mrecipes\u001b[39m::\u001b[32mstep()\u001b[39m  masks \u001b[34mstats\u001b[39m::step()\n",
      "\u001b[34m•\u001b[39m Use suppressPackageStartupMessages() to eliminate package startup messages\n",
      "\n",
      "── \u001b[1mAttaching core tidyverse packages\u001b[22m ──────────────────────── tidyverse 2.0.0 ──\n",
      "\u001b[32m✔\u001b[39m \u001b[34mforcats  \u001b[39m 1.0.0     \u001b[32m✔\u001b[39m \u001b[34mreadr    \u001b[39m 2.1.4\n",
      "\u001b[32m✔\u001b[39m \u001b[34mlubridate\u001b[39m 1.9.2     \u001b[32m✔\u001b[39m \u001b[34mstringr  \u001b[39m 1.5.0\n",
      "── \u001b[1mConflicts\u001b[22m ────────────────────────────────────────── tidyverse_conflicts() ──\n",
      "\u001b[31m✖\u001b[39m \u001b[34mreadr\u001b[39m::\u001b[32mcol_factor()\u001b[39m masks \u001b[34mscales\u001b[39m::col_factor()\n",
      "\u001b[31m✖\u001b[39m \u001b[34mpurrr\u001b[39m::\u001b[32mdiscard()\u001b[39m    masks \u001b[34mscales\u001b[39m::discard()\n",
      "\u001b[31m✖\u001b[39m \u001b[34mdplyr\u001b[39m::\u001b[32mfilter()\u001b[39m     masks \u001b[34mstats\u001b[39m::filter()\n",
      "\u001b[31m✖\u001b[39m \u001b[34mstringr\u001b[39m::\u001b[32mfixed()\u001b[39m    masks \u001b[34mrecipes\u001b[39m::fixed()\n",
      "\u001b[31m✖\u001b[39m \u001b[34mdplyr\u001b[39m::\u001b[32mlag()\u001b[39m        masks \u001b[34mstats\u001b[39m::lag()\n",
      "\u001b[31m✖\u001b[39m \u001b[34mreadr\u001b[39m::\u001b[32mspec()\u001b[39m       masks \u001b[34myardstick\u001b[39m::spec()\n",
      "\u001b[36mℹ\u001b[39m Use the conflicted package (\u001b[3m\u001b[34m<http://conflicted.r-lib.org/>\u001b[39m\u001b[23m) to force all conflicts to become errors\n",
      "Updating HTML index of packages in '.Library'\n",
      "\n",
      "Making 'packages.html' ...\n",
      " done\n",
      "\n",
      "Updating HTML index of packages in '.Library'\n",
      "\n",
      "Making 'packages.html' ...\n",
      " done\n",
      "\n"
     ]
    }
   ],
   "source": [
    "library(tidymodels)\n",
    "library(tidyverse)\n",
    "library(readxl)\n",
    "install.packages('mlbench')\n",
    "install.packages('MASS')\n",
    "install.packages('pROC')\n",
    "library(mlbench)\n",
    "library(MASS)\n",
    "library(pROC)\n",
    "\n",
    "# Setting a seed so our analysis is random but reproducible\n",
    "set.seed(2005)"
   ]
  },
  {
   "cell_type": "markdown",
   "id": "850e904c-5b62-42e0-a352-7f133c90b4dd",
   "metadata": {},
   "source": [
    "## Cleaning and wrangling the data "
   ]
  },
  {
   "cell_type": "code",
   "execution_count": null,
   "id": "8c287063-b6b3-46c5-a43e-d1df5dc0785c",
   "metadata": {},
   "outputs": [],
   "source": [
    "# Read the data\n",
    "fraud_data <- read_excel(\"BOLT Data Set.xlsx\")\n",
    "\n",
    "# Converting to correct data types\n",
    "numeric_column_names <- c(\"Risk Assessment\", \"Transaction Value\")\n",
    "factor_column_names <- c(\"Card Identifier\", \"Payment Method\", \"Merchant Location\", \"Card Present Status\", \"Chip Usage\",\n",
    "                       \"Cross-border Transaction (Yes/No)\", \"Acquiring Institution ID\", \"Merchant Identifier\", \n",
    "                        \"Fraud Indicator (Yes/No)\")\n",
    "fraud_data <- fraud_data |>\n",
    "    mutate(across(all_of(numeric_column_names), as.numeric)) |>\n",
    "    mutate(across(all_of(factor_column_names), as_factor))\n",
    "\n",
    "glimpse(fraud_data)"
   ]
  },
  {
   "cell_type": "markdown",
   "id": "87e8fa4a-46e1-4d61-b2ef-8097265f4ab5",
   "metadata": {},
   "source": [
    "## Splitting the data "
   ]
  },
  {
   "cell_type": "code",
   "execution_count": null,
   "id": "bd19b220-136c-4f31-8d50-462b22a11797",
   "metadata": {},
   "outputs": [],
   "source": [
    "#Split the data into training and testing set\n",
    "fraud_data_split <- fraud_data |>\n",
    "    initial_split(prop = 0.75, strata = \"Fraud Indicator (Yes/No)\")\n",
    "\n",
    "fraud_training <- training(fraud_data_split)\n",
    "fraud_testing <- testing(fraud_data_split)\n"
   ]
  },
  {
   "cell_type": "markdown",
   "id": "69005dda-c992-4f57-bca4-dd9ed3b95177",
   "metadata": {},
   "source": [
    "## Stepwise Selection"
   ]
  },
  {
   "cell_type": "code",
   "execution_count": null,
   "id": "3365c5ea-bf25-46e3-b19d-a55862ada53a",
   "metadata": {},
   "outputs": [],
   "source": [
    "logit_1 <- glm(\"Fraud Indicator (Yes/No)\" ~ \"Risk Assessment\" + \"Transaction Value\", family = binomial,data = fraud_training)"
   ]
  },
  {
   "cell_type": "code",
   "execution_count": null,
   "id": "49d0450f-6fb1-46bd-a6d0-bee5aeb74e52",
   "metadata": {},
   "outputs": [],
   "source": []
  }
 ],
 "metadata": {
  "kernelspec": {
   "display_name": "R",
   "language": "R",
   "name": "ir"
  },
  "language_info": {
   "codemirror_mode": "r",
   "file_extension": ".r",
   "mimetype": "text/x-r-source",
   "name": "R",
   "pygments_lexer": "r",
   "version": "4.3.1"
  }
 },
 "nbformat": 4,
 "nbformat_minor": 5
}
